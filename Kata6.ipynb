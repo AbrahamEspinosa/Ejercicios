{
 "cells": [
  {
   "cell_type": "markdown",
   "metadata": {},
   "source": [
    "Ejercicio1: Crear y usar listas de Python"
   ]
  },
  {
   "cell_type": "code",
   "execution_count": 3,
   "metadata": {},
   "outputs": [
    {
     "name": "stdout",
     "output_type": "stream",
     "text": [
      "Existen 8 planetas\n",
      "Pluton Es el ultimo planeta\n"
     ]
    }
   ],
   "source": [
    "\n",
    "planetas = ['Mercurio', 'Venus', 'Tierra', 'Marte', 'Jupiter', 'Saturno', 'Urano', 'Neptuno']\n",
    "\n",
    "print('Existen', len(planetas), 'planetas')\n",
    "\n",
    "planetas.append('Pluton')\n",
    "\n",
    "print(planetas[-1], 'Es el ultimo planeta')"
   ]
  },
  {
   "cell_type": "markdown",
   "metadata": {},
   "source": [
    "Ejercicio 2: Trabajando con datos de una lista"
   ]
  },
  {
   "cell_type": "code",
   "execution_count": 6,
   "metadata": {},
   "outputs": [
    {
     "name": "stdout",
     "output_type": "stream",
     "text": [
      "Aqui estan los planetas más cercanoTierra\n",
      "['Mercurio', 'Venus']\n",
      "Aquí están los planetas más lejosTierra\n",
      "['Marte', 'Jupiter', 'Saturno', 'Urano', 'Neptuno']\n"
     ]
    }
   ],
   "source": [
    "planetas = ['Mercurio', 'Venus', 'Tierra', 'Marte', 'Jupiter', 'Saturno', 'Urano', 'Neptuno']\n",
    "usar_planeta = input('Por favor ingrese el nombre del planeta (con una letra mayuscula para comenzar)')\n",
    "planeta_index = planetas.index (usar_planeta)\n",
    "print('Aqui estan los planetas más cercano' + usar_planeta)\n",
    "print(planetas[0:planeta_index])\n",
    "print(\"Aquí están los planetas más lejos\" + usar_planeta)\n",
    "print(planetas[planeta_index + 1:])\n",
    "\n",
    "\n",
    "\n",
    "\n"
   ]
  }
 ],
 "metadata": {
  "interpreter": {
   "hash": "c43c8053a089a630680ca9a32808cf12acea0ee6bdfdcd430e8fb3ddafaab744"
  },
  "kernelspec": {
   "display_name": "Python 3.10.2 ('env': venv)",
   "language": "python",
   "name": "python3"
  },
  "language_info": {
   "codemirror_mode": {
    "name": "ipython",
    "version": 3
   },
   "file_extension": ".py",
   "mimetype": "text/x-python",
   "name": "python",
   "nbconvert_exporter": "python",
   "pygments_lexer": "ipython3",
   "version": "3.10.2"
  },
  "orig_nbformat": 4
 },
 "nbformat": 4,
 "nbformat_minor": 2
}
