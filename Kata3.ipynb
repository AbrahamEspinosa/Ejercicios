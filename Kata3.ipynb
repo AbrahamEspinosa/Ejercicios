{
 "cells": [
  {
   "cell_type": "markdown",
   "metadata": {},
   "source": [
    "Ejercicio 1\n"
   ]
  },
  {
   "cell_type": "code",
   "execution_count": 21,
   "metadata": {},
   "outputs": [
    {
     "name": "stdout",
     "output_type": "stream",
     "text": [
      "¡Peligro un asteroide se dirige a la tierra!\n"
     ]
    }
   ],
   "source": [
    "# Añadir el código necesario para crear una variable que guarde la velocidad del asteroide.\n",
    "# Escribe una expresión de prueba para calcular si necesita una advertencia.\n",
    "# Agregue las instrucciones que se ejecutarán si la expresión de prueba es true o false.\n",
    "\n",
    "asteroide = 49\n",
    "if asteroide > 25:\n",
    "    print('¡Peligro un asteroide se dirige a la tierra!')\n",
    "else:\n",
    "    print('Todo tranquilo')\n"
   ]
  },
  {
   "cell_type": "markdown",
   "metadata": {},
   "source": [
    "Ejercicio 2"
   ]
  },
  {
   "cell_type": "code",
   "execution_count": 20,
   "metadata": {},
   "outputs": [
    {
     "name": "stdout",
     "output_type": "stream",
     "text": [
      "Una luz brillante en la tierra\n"
     ]
    }
   ],
   "source": [
    "# Agrega el código para crear una variable para un asteroide que viaja a 19 km/s\n",
    "# Escribe varias expresiones de prueba para determinar si puedes ver el rayo de luz desde la tierra\n",
    "# Agrega las instrucciones que se ejecutarán si las expresiones de prueba son True o False\n",
    "\n",
    "asteroide = 19\n",
    "if asteroide > 10:\n",
    "    print('Una luz brillante en la tierra')\n",
    "elif asteroide == 100:\n",
    "    print('Una luz brillante en el cielo!')\n",
    "else:\n",
    "    print('Todo tranquilo')"
   ]
  },
  {
   "cell_type": "markdown",
   "metadata": {},
   "source": [
    "Ejercicio 3"
   ]
  },
  {
   "cell_type": "code",
   "execution_count": 15,
   "metadata": {},
   "outputs": [
    {
     "name": "stdout",
     "output_type": "stream",
     "text": [
      "Todo tranquilo :)\n"
     ]
    }
   ],
   "source": [
    "# Agrega el código para crear nuevas variables para la velocidad y el tamaño del asteroide\n",
    "# Para probar el código, prueba con varias velocidades y tamaños\n",
    "# Escribe varias expresiones de prueba o combinaciones de expresiones de prueba para determinar qué mensaje se debe enviar a Tierra.\n",
    "\n",
    "velocidad_asteroide = 3\n",
    "tamano_asteroide = 1\n",
    "if velocidad_asteroide > 25 and tamano_asteroide > 25:\n",
    "    print('¡Alerta, Un asteroide muy peligroso viene hacia la Tierra!')\n",
    "elif velocidad_asteroide >= 20:\n",
    "    print('Look up! ¡Hay una luz mágica en el cielo!')\n",
    "elif tamano_asteroide < 25:\n",
    "    print('Todo tranquilo :)')\n",
    "else:\n",
    "    print('No pasa nada :)')"
   ]
  }
 ],
 "metadata": {
  "interpreter": {
   "hash": "1dad466db74c102a823db7dcc1680ba5c23b5a2265bcdfb43b1964111f915234"
  },
  "kernelspec": {
   "display_name": "Python 3.10.2 64-bit",
   "language": "python",
   "name": "python3"
  },
  "language_info": {
   "codemirror_mode": {
    "name": "ipython",
    "version": 3
   },
   "file_extension": ".py",
   "mimetype": "text/x-python",
   "name": "python",
   "nbconvert_exporter": "python",
   "pygments_lexer": "ipython3",
   "version": "3.10.2"
  },
  "orig_nbformat": 4
 },
 "nbformat": 4,
 "nbformat_minor": 2
}
