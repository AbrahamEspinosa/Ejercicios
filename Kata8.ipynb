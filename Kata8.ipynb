{
 "cells": [
  {
   "cell_type": "markdown",
   "metadata": {},
   "source": [
    "Ejercicio 1: Creación de diccionarios de Python"
   ]
  },
  {
   "cell_type": "code",
   "execution_count": 10,
   "metadata": {},
   "outputs": [
    {
     "name": "stdout",
     "output_type": "stream",
     "text": [
      "Marte posee 2 lunas\n",
      "Marte posee circumference polar 6752\n"
     ]
    }
   ],
   "source": [
    "planeta = {\n",
    "    'nombre': 'Marte',\n",
    "    'luna': 2\n",
    "}\n",
    "\n",
    "print(f'{planeta[\"nombre\"]} posee {planeta[\"luna\"]} lunas')\n",
    "\n",
    "planeta['circumference (Km)'] = {\n",
    "    'polar': 6752,\n",
    "    'ecuatorial': 6792\n",
    "}\n",
    "print(f'{planeta[\"nombre\"]} posee circumference polar {planeta[\"circumference (Km)\"][\"polar\"]}')\n"
   ]
  },
  {
   "cell_type": "markdown",
   "metadata": {},
   "source": [
    "Ejercicio 2: Programación dinámica con diccionarios"
   ]
  },
  {
   "cell_type": "code",
   "execution_count": 1,
   "metadata": {},
   "outputs": [
    {
     "name": "stdout",
     "output_type": "stream",
     "text": [
      "17.833333333333332\n"
     ]
    }
   ],
   "source": [
    "# Planetas y lunas\n",
    "\n",
    "planet_moons = {\n",
    "\n",
    "    'mercury': 0,\n",
    "\n",
    "    'venus': 0,\n",
    "\n",
    "    'earth': 1,\n",
    "\n",
    "    'mars': 2,\n",
    "\n",
    "    'jupiter': 79,\n",
    "\n",
    "    'saturn': 82,\n",
    "\n",
    "    'uranus': 27,\n",
    "\n",
    "    'neptune': 14,\n",
    "\n",
    "    'pluto': 5,\n",
    "\n",
    "    'haumea': 2,\n",
    "\n",
    "    'makemake': 1,\n",
    "\n",
    "    'eris': 1\n",
    "}\n",
    "\n",
    "# Almacenamos los resultados en una variable lunas\n",
    "\n",
    "moons = planet_moons.values()\n",
    "\n",
    "# Obtenemos el total de planetas\n",
    "\n",
    "# Almacenamos los resultados en una variable llamada years\n",
    "\n",
    "planets = len(planet_moons.keys())\n",
    "\n",
    "# Calcula el total_moons agregando todas las lunas\n",
    "\n",
    "# Almacena su valor en una variable llamada total_moons\n",
    "\n",
    "total_moons = 0\n",
    "\n",
    "for moon in moons:\n",
    "\n",
    "    total_moons = total_moons + moon\n",
    "\n",
    "# Calcula el promedio dividiendo el total_moons por el número de planetas\n",
    "\n",
    "Promedio = total_moons / planets\n",
    "\n",
    "# Muestra el promedio\n",
    "\n",
    "print(Promedio)"
   ]
  }
 ],
 "metadata": {
  "interpreter": {
   "hash": "c43c8053a089a630680ca9a32808cf12acea0ee6bdfdcd430e8fb3ddafaab744"
  },
  "kernelspec": {
   "display_name": "Python 3.10.2 ('env': venv)",
   "language": "python",
   "name": "python3"
  },
  "language_info": {
   "codemirror_mode": {
    "name": "ipython",
    "version": 3
   },
   "file_extension": ".py",
   "mimetype": "text/x-python",
   "name": "python",
   "nbconvert_exporter": "python",
   "pygments_lexer": "ipython3",
   "version": "3.10.2"
  },
  "orig_nbformat": 4
 },
 "nbformat": 4,
 "nbformat_minor": 2
}
