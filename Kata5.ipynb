{
 "cells": [
  {
   "cell_type": "markdown",
   "metadata": {},
   "source": [
    "Ejercicio1 - Utilizar operadores aritméticos"
   ]
  },
  {
   "cell_type": "code",
   "execution_count": 2,
   "metadata": {},
   "outputs": [
    {
     "name": "stdout",
     "output_type": "stream",
     "text": [
      "Distancia en kilometros: 628949322 \n",
      "Distancia en Millas: 390577528.962\n"
     ]
    }
   ],
   "source": [
    "Tierra = 149597878\n",
    "Jupiter = 778547200\n",
    "\n",
    "Distancia = Jupiter - Tierra \n",
    "kaM = Distancia * 0.621\n",
    "\n",
    "print(f\"Distancia en kilometros: {Distancia} \\nDistancia en Millas: {kaM}\")"
   ]
  },
  {
   "cell_type": "markdown",
   "metadata": {},
   "source": [
    "Ejercicio 2: convierte cadenas en números y usa valores absoluto"
   ]
  },
  {
   "cell_type": "code",
   "execution_count": 4,
   "metadata": {},
   "outputs": [
    {
     "name": "stdout",
     "output_type": "stream",
     "text": [
      "1900\n",
      "1179.9\n"
     ]
    }
   ],
   "source": [
    "Planeta1 = input(\"Distancia de planeta uno\")\n",
    "Planeta2 = input(\"Distancia de planeta dos\")\n",
    "\n",
    "Planeta1 = int(Planeta1)\n",
    "Planeta2 = int(Planeta2)\n",
    "\n",
    "Distanciakm = Planeta2 - Planeta1\n",
    "print(Distanciakm)\n",
    "\n",
    "DistanciaMilla = Distanciakm * 0.621\n",
    "print(abs(DistanciaMilla))\n",
    "\n"
   ]
  }
 ],
 "metadata": {
  "interpreter": {
   "hash": "c43c8053a089a630680ca9a32808cf12acea0ee6bdfdcd430e8fb3ddafaab744"
  },
  "kernelspec": {
   "display_name": "Python 3.10.2 ('env': venv)",
   "language": "python",
   "name": "python3"
  },
  "language_info": {
   "codemirror_mode": {
    "name": "ipython",
    "version": 3
   },
   "file_extension": ".py",
   "mimetype": "text/x-python",
   "name": "python",
   "nbconvert_exporter": "python",
   "pygments_lexer": "ipython3",
   "version": "3.10.2"
  },
  "orig_nbformat": 4
 },
 "nbformat": 4,
 "nbformat_minor": 2
}
